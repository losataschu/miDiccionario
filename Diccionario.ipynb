{
 "cells": [
  {
   "cell_type": "markdown",
   "metadata": {
    "id": "kZqRe3CRQ5Ds"
   },
   "source": [
    "# A program to store vocabulary while learning or practicing a new language."
   ]
  },
  {
   "cell_type": "markdown",
   "metadata": {
    "id": "ozGV5emSKd3i"
   },
   "source": [
    "First, I define a help function `countWords` to determine whether an entry has one, two, or more words.\n",
    "To test it, I use the array `my_words`."
   ]
  },
  {
   "cell_type": "code",
   "execution_count": 11,
   "metadata": {
    "executionInfo": {
     "elapsed": 991,
     "status": "ok",
     "timestamp": 1726930454788,
     "user": {
      "displayName": "Losataschu",
      "userId": "05286303956796621712"
     },
     "user_tz": -120
    },
    "id": "ZG8D0r9ulDTG"
   },
   "outputs": [
    {
     "name": "stdout",
     "output_type": "stream",
     "text": [
      "1\n",
      "2\n",
      "4\n"
     ]
    }
   ],
   "source": [
    "my_words = ['abarbeiten', 'die Wertschöpfung', 'etwas in Worte fassen']\n",
    "\n",
    "def countWords(text):\n",
    "  if len(text) == 0:\n",
    "    return 0\n",
    "  words = 1\n",
    "  for letter in text:\n",
    "    if letter == ' ' and text[0] != letter and text[-1] != letter:\n",
    "      words += 1\n",
    "  return words\n",
    "\n",
    "for i in my_words:\n",
    "    print(countWords(i))"
   ]
  },
  {
   "cell_type": "markdown",
   "metadata": {
    "id": "d8LkG-UF9EH_"
   },
   "source": [
    "I use the `json` library to create my vocabulary list."
   ]
  },
  {
   "cell_type": "code",
   "execution_count": 16,
   "metadata": {
    "executionInfo": {
     "elapsed": 1158,
     "status": "ok",
     "timestamp": 1726930485842,
     "user": {
      "displayName": "Losataschu",
      "userId": "05286303956796621712"
     },
     "user_tz": -120
    },
    "id": "SObCySyCRHqJ"
   },
   "outputs": [],
   "source": [
    "import json"
   ]
  },
  {
   "cell_type": "markdown",
   "metadata": {
    "id": "6jzckmvQQAJF"
   },
   "source": [
    "## Description of my classes\n",
    "\n",
    "1. `Entry`. It has three attributes:\n",
    "    1. `Text`.\n",
    "    5. `Date`.\n",
    "    4. `Category`.\n",
    "3. `Noun`. A subclass of `Entry`, it has one additional attribute:\n",
    "    * `Article`.\n",
    "50. `Dictionary`. It has the following properties:\n",
    "    + It consists of entries. Those are stored in a JSON file whose path is given to the constructor.\n",
    "    + Should be able to add entries.\n",
    "    + It should allow the filtering of the whole list and create sublists using different criteria."
   ]
  },
  {
   "cell_type": "markdown",
   "metadata": {
    "id": "ez1IZzMRPLcg"
   },
   "source": [
    "Remark: an `entry` might be a word or a sentence (e.g. a common idiom)."
   ]
  },
  {
   "cell_type": "code",
   "execution_count": 39,
   "metadata": {
    "executionInfo": {
     "elapsed": 418,
     "status": "ok",
     "timestamp": 1726930492492,
     "user": {
      "displayName": "Losataschu",
      "userId": "05286303956796621712"
     },
     "user_tz": -120
    },
    "id": "DC95UMie9xnD"
   },
   "outputs": [],
   "source": [
    "class Entry:\n",
    "  def __init__(self, text, date, category):\n",
    "    self.text = text\n",
    "    self.date = date\n",
    "    self.category = category\n",
    "  def __str__(self):\n",
    "    return self.text\n",
    "  def __repr__(self):\n",
    "    return f\"{self.text}\"\n",
    "\n",
    "class Noun(Entry):\n",
    "  def __init__(self, article, text, date, category):\n",
    "    super().__init__(text, date, category)\n",
    "    self.article = article\n",
    "  def __repr__(self):\n",
    "    return f\"{self.article} {self.text}\"\n",
    "\n"
   ]
  },
  {
   "cell_type": "code",
   "execution_count": 41,
   "metadata": {},
   "outputs": [],
   "source": [
    "# Codigo Clase Diccionario\n",
    "class Dictionary:\n",
    "  def __init__(self, file_path):\n",
    "    self.file_path = file_path\n",
    "    self.list = self.crear_list()\n",
    "\n",
    "  def crear_list(self):\n",
    "    with open(self.file_path, 'r') as file:\n",
    "      my_entries = json.loads(file.read())\n",
    "      #print(mis_entradas)\n",
    "      entries_categorized = []\n",
    "      for entry in my_entries[\"Entradas\"]:\n",
    "        #print(entrada[\"palabra\"])\n",
    "        if countWords(entry[\"palabra\"]) == 2:\n",
    "          entries_categorized.append(Noun(article=entry[\"palabra\"][0:3], text=entry[\"palabra\"][4:], date=entry[\"fecha\"], category=\"Noun\"))\n",
    "        else:\n",
    "          entries_categorized.append(Entry(text=entry[\"palabra\"], date=entry[\"fecha\"], category=\"Other\"))\n",
    "      return entries_categorized\n"
   ]
  },
  {
   "cell_type": "code",
   "execution_count": 164,
   "metadata": {},
   "outputs": [],
   "source": [
    "class VocabularyList:\n",
    "  def __init__(self, vocab_list):\n",
    "    self.vocab_list = vocab_list\n",
    "    self.table = self.create_table()\n",
    "    \n",
    "# Create the tabla using the entries in the the dictionary\n",
    "  def create_table(self):\n",
    "    numbering = []\n",
    "    vocabulary = []\n",
    "    i = 1\n",
    "    entry_i = \"Entry \"\n",
    "    for entry in self.vocab_list:\n",
    "      numbering.append(entry_i + str(i))\n",
    "      # TODO: add something to deal with wrong entries\n",
    "      show_date = f'{entry.date[0]}-{entry.date[1]}-{entry.date[2]}'\n",
    "      list_row = [entry.__repr__(), show_date, entry.category]\n",
    "      vocabulary.append(list_row)\n",
    "      i += 1\n",
    "    return vocabulary, numbering, [\"\", \"Text\", \"Date\", \"Category\"]\n",
    "\n",
    "# Function to show a well-ordered table with my vocabulary   \n",
    "  def show_table(self, vocabulary, enumeration, columns):\n",
    "    # TODO: here, I have to complete the function specifying the desired format\n",
    "    print(\"{:<10} {:<20} {:<12} {:<12}\".format(*columns))\n",
    "    # TODO: here handle with the case that enumeration and vocabulary have different lengths\n",
    "    for i in range(len(vocabulary)):\n",
    "        print(\"{:<10} {:<20} {:<12} {:<12}\".format(enumeration[i], *vocabulary[i]))\n",
    "    \n"
   ]
  },
  {
   "cell_type": "code",
   "execution_count": 166,
   "metadata": {
    "executionInfo": {
     "elapsed": 376,
     "status": "ok",
     "timestamp": 1726937044598,
     "user": {
      "displayName": "Losataschu",
      "userId": "05286303956796621712"
     },
     "user_tz": -120
    },
    "id": "8ehFkdfl9z2v"
   },
   "outputs": [],
   "source": [
    "#def isSustantivo(entrada):\n",
    " #  if contarPalabras(entrada.texto) == 2:\n",
    "  #    return true\n",
    "\n",
    "# esta es la función que filtrará las tablas y entrega los resultados\n",
    "#def filtrarTabla(tabla, criterio, valor):\n",
    "    #match criterio:\n",
    "      #case \"categoria\": return filtrarCategoria(tabla, valor)\n",
    "      #case \"letra_inicial\": return filtrarLetraInicial(tabla, valor)\n",
    "      #case _: return \"Para tal criterio no hay nada aun\"\n",
    "\n",
    "#def filtrarCategoria(tabla, valor):\n",
    "    #tabla_filtrada = tabla.copy()\n",
    "    #match valor:\n",
    "      #case \"Sustantivo\" | \"Otra\": return tabla_filtrada.loc[lambda df: df[\"Categoria\"] == valor, :]\n",
    "      #case _: return \"Categoría inválida.\"\n",
    "\n",
    "#def filtrarLetraInicial(tabla, valor):\n",
    "    #tabla_filtrada = tabla.copy()\n",
    "    #if len(valor) != 1:\n",
    "      #return \"Ingresar solamente una letra.\"\n",
    "    #valor = valor.lower()\n",
    "    #for i in tabla.loc[:,\"Palabra\"]:\n",
    "      #if contarPalabras(i) == 2 and i[4] != valor.capitalize():\n",
    "        #idx = tabla.index[tabla[\"Palabra\"]==i].tolist()\n",
    "        #tabla_filtrada = tabla_filtrada.drop(idx)\n",
    "      #elif contarPalabras(i) == 1 and i[0] != valor:\n",
    "        #idx = tabla.index[tabla[\"Palabra\"]==i].tolist()\n",
    "        #tabla_filtrada = tabla_filtrada.drop(idx)\n",
    "    #return tabla_filtrada\n"
   ]
  },
  {
   "cell_type": "code",
   "execution_count": 168,
   "metadata": {},
   "outputs": [
    {
     "name": "stdout",
     "output_type": "stream",
     "text": [
      "[abarbeiten, abfangen, die Abfolge, abgelten, abgrenzen, die Besteuerung, bestmoeglich, bewirten, durchreichen, einheitlich, einordnen, der Einsatz, einsortieren, entbehrlich, das Entgelt, entkoppeln, das Fachkonzept, fachlich, die Fachlichkeit, die Festlegung, das Formelwerk, foermlich, gegenueberstellen, misslingen, nachgelagert, nahelegen, niederdruecken, notduerftig, die Plausibilisierung, raushauen, die Rechnungslegung, die Rentenperiode, das Tafelwerk, ungemein, unterlassen, unuebersichtlich, unzulaenglich, verbindlich, verkomplizieren, verschaffen, vervollstaendigen, die Verweildauer, der Vorgang, das Vorhaben, vorlaeufig, der Zeitwert, zusammensetzen, der Zusatz, die Zustaendigkeit, die Zusicherung, zuweisen, zwangslaeufig]\n"
     ]
    }
   ],
   "source": [
    "new_dict = Dictionary(\"entradas_reducidas.json\")\n",
    "my_entries = new_dict.list\n",
    "print(my_entries)\n",
    "#print(nuevo_diccionario.listado[0].fecha)\n",
    "#print(nuevo_diccionario.listado[0].__str__())\n",
    "#print(nuevo_diccionario.listado[1].__repr__())\n",
    "#print(nuevo_diccionario.listado[1].articulo)"
   ]
  },
  {
   "cell_type": "code",
   "execution_count": 170,
   "metadata": {},
   "outputs": [
    {
     "name": "stdout",
     "output_type": "stream",
     "text": [
      "Date\n",
      "           Text                 Date         Category    \n",
      "Entry 1    abarbeiten           29-11-2022   Other       \n",
      "Entry 2    abfangen             24-5-2023    Other       \n",
      "Entry 3    die Abfolge          12-12-2022   Noun        \n",
      "Entry 4    abgelten             28-12-2022   Other       \n",
      "Entry 5    abgrenzen            24-5-2023    Other       \n",
      "Entry 6    die Besteuerung      7-12-2022    Noun        \n",
      "Entry 7    bestmoeglich         13-12-2022   Other       \n",
      "Entry 8    bewirten             29-12-2022   Other       \n",
      "Entry 9    durchreichen         13-12-2022   Other       \n",
      "Entry 10   einheitlich          21-12-2022   Other       \n",
      "Entry 11   einordnen            14-12-2022   Other       \n",
      "Entry 12   der Einsatz          15-12-2022   Noun        \n",
      "Entry 13   einsortieren         4-1-2023     Other       \n",
      "Entry 14   entbehrlich          28-12-2022   Other       \n",
      "Entry 15   das Entgelt          7-12-2022    Noun        \n",
      "Entry 16   entkoppeln           28-12-2022   Other       \n",
      "Entry 17   das Fachkonzept      12-12-2022   Noun        \n",
      "Entry 18   fachlich             12-12-2022   Other       \n",
      "Entry 19   die Fachlichkeit     21-12-2022   Noun        \n",
      "Entry 20   die Festlegung       12-12-2022   Noun        \n",
      "Entry 21   das Formelwerk       13-12-2022   Noun        \n",
      "Entry 22   foermlich            29-11-2022   Other       \n",
      "Entry 23   gegenueberstellen    28-12-2022   Other       \n",
      "Entry 24   misslingen           29-11-2022   Other       \n",
      "Entry 25   nachgelagert         13-12-2022   Other       \n",
      "Entry 26   nahelegen            28-12-2022   Other       \n",
      "Entry 27   niederdruecken       29-11-2022   Other       \n",
      "Entry 28   notduerftig          29-11-2022   Other       \n",
      "Entry 29   die Plausibilisierung 13-12-2022   Noun        \n",
      "Entry 30   raushauen            15-12-2022   Other       \n",
      "Entry 31   die Rechnungslegung  12-12-2022   Noun        \n",
      "Entry 32   die Rentenperiode    29-12-2022   Noun        \n",
      "Entry 33   das Tafelwerk        13-12-2022   Noun        \n",
      "Entry 34   ungemein             29-11-2022   Other       \n",
      "Entry 35   unterlassen          26-5-2023    Other       \n",
      "Entry 36   unuebersichtlich     7-12-2022    Other       \n",
      "Entry 37   unzulaenglich        14-12-2022   Other       \n",
      "Entry 38   verbindlich          28-12-2022   Other       \n",
      "Entry 39   verkomplizieren      4-1-2023     Other       \n",
      "Entry 40   verschaffen          13-12-2022   Other       \n",
      "Entry 41   vervollstaendigen    12-12-2022   Other       \n",
      "Entry 42   die Verweildauer     28-12-2022   Noun        \n",
      "Entry 43   der Vorgang          28-12-2022   Noun        \n",
      "Entry 44   das Vorhaben         12-12-2022   Noun        \n",
      "Entry 45   vorlaeufig           28-12-2022   Other       \n",
      "Entry 46   der Zeitwert         28-12-2022   Noun        \n",
      "Entry 47   zusammensetzen       14-12-2022   Other       \n",
      "Entry 48   der Zusatz           13-12-2022   Noun        \n",
      "Entry 49   die Zustaendigkeit   28-12-2022   Noun        \n",
      "Entry 50   die Zusicherung      5-12-2022    Noun        \n",
      "Entry 51   zuweisen             12-12-2022   Other       \n",
      "Entry 52   zwangslaeufig        28-12-2022   Other       \n"
     ]
    }
   ],
   "source": [
    "newTable = VocabularyList(mis_entradas)\n",
    "#print(nueva_tabla.tabla)\n",
    "entries, enums, cols = newTable.create_table()\n",
    "print(cols[2])\n",
    "newTable.show_table(entries, enums, cols)"
   ]
  },
  {
   "cell_type": "code",
   "execution_count": 70,
   "metadata": {
    "colab": {
     "base_uri": "https://localhost:8080/",
     "height": 1000
    },
    "executionInfo": {
     "elapsed": 400,
     "status": "ok",
     "timestamp": 1726937401505,
     "user": {
      "displayName": "Losataschu",
      "userId": "05286303956796621712"
     },
     "user_tz": -120
    },
    "id": "WA1yRvxyS7gt",
    "outputId": "840cf2a2-8489-4341-b87e-81ac03a7b58f"
   },
   "outputs": [],
   "source": [
    "#filtrarTabla(tabla_entradas, \"letra_inicial\", \"F\")"
   ]
  },
  {
   "cell_type": "markdown",
   "metadata": {
    "id": "f7IP2b3sRUlV"
   },
   "source": [
    "## Next steps:\n",
    "\n",
    "- Filter using different criteria:\n",
    "  1. Alphabetic\n",
    "  2. Date\n",
    "  3. Category\n",
    "- Add vocabulary into the JSON file."
   ]
  },
  {
   "cell_type": "code",
   "execution_count": 157,
   "metadata": {
    "colab": {
     "base_uri": "https://localhost:8080/",
     "height": 112
    },
    "executionInfo": {
     "elapsed": 423,
     "status": "ok",
     "timestamp": 1726932069305,
     "user": {
      "displayName": "Losataschu",
      "userId": "05286303956796621712"
     },
     "user_tz": -120
    },
    "id": "WGlEwhY29Pgb",
    "outputId": "a3caceb0-9d73-4ea9-9916-bc3a055adf49"
   },
   "outputs": [
    {
     "data": {
      "text/html": [
       "<div>\n",
       "<style scoped>\n",
       "    .dataframe tbody tr th:only-of-type {\n",
       "        vertical-align: middle;\n",
       "    }\n",
       "\n",
       "    .dataframe tbody tr th {\n",
       "        vertical-align: top;\n",
       "    }\n",
       "\n",
       "    .dataframe thead th {\n",
       "        text-align: right;\n",
       "    }\n",
       "</style>\n",
       "<table border=\"1\" class=\"dataframe\">\n",
       "  <thead>\n",
       "    <tr style=\"text-align: right;\">\n",
       "      <th></th>\n",
       "      <th>entrada</th>\n",
       "      <th>fecha</th>\n",
       "    </tr>\n",
       "  </thead>\n",
       "  <tbody>\n",
       "    <tr>\n",
       "      <th>0</th>\n",
       "      <td>abarbeiten</td>\n",
       "      <td>[29, 11, 2022]</td>\n",
       "    </tr>\n",
       "    <tr>\n",
       "      <th>1</th>\n",
       "      <td>die Abfolge</td>\n",
       "      <td>[12, 12, 2022]</td>\n",
       "    </tr>\n",
       "  </tbody>\n",
       "</table>\n",
       "</div>"
      ],
      "text/plain": [
       "       entrada           fecha\n",
       "0   abarbeiten  [29, 11, 2022]\n",
       "1  die Abfolge  [12, 12, 2022]"
      ]
     },
     "execution_count": 157,
     "metadata": {},
     "output_type": "execute_result"
    }
   ],
   "source": [
    "pd.read_json('entrada_simple.json', orient=\"records\")"
   ]
  },
  {
   "cell_type": "code",
   "execution_count": 22,
   "metadata": {
    "colab": {
     "base_uri": "https://localhost:8080/"
    },
    "executionInfo": {
     "elapsed": 417,
     "status": "ok",
     "timestamp": 1726933487022,
     "user": {
      "displayName": "Losataschu",
      "userId": "05286303956796621712"
     },
     "user_tz": -120
    },
    "id": "xgiKjUo7CZoz",
    "outputId": "2d6c11c9-a587-44bf-c486-1166ded2e631"
   },
   "outputs": [
    {
     "name": "stdout",
     "output_type": "stream",
     "text": [
      "[[ 9.41910128e-01  7.90234512e-01 -2.18467175e-01]\n",
      " [-7.96855617e-01 -3.84789061e-01 -4.97087591e-01]\n",
      " [ 1.49431316e+00  7.57519435e-01 -5.85202887e-01]\n",
      " [ 3.05734161e-01 -4.19143336e-02  1.74862926e+00]\n",
      " [ 1.00568524e+00 -6.81190402e-04 -2.55177632e-01]\n",
      " [ 4.69615209e-01 -9.56371756e-01  2.06806276e+00]\n",
      " [-9.71785672e-01 -1.55651529e-01 -3.01620397e-01]\n",
      " [ 1.36386970e-01 -2.81418896e-01 -3.89706242e-01]]\n",
      "                   A         B         C\n",
      "2000-01-01 -2.759640 -0.312461 -0.548958\n",
      "2000-01-02  1.206670  1.501298  2.315188\n",
      "2000-01-03  0.849976  0.897112  0.074638\n",
      "2000-01-04 -0.547975  2.160294 -0.046115\n",
      "2000-01-05  1.968564 -0.067033 -0.363519\n",
      "2000-01-06  0.062446  0.282341  0.233524\n",
      "2000-01-07 -0.612508  0.259587  0.378447\n",
      "2000-01-08  0.398564  0.736146 -1.216213\n"
     ]
    }
   ],
   "source": [
    "import numpy as np\n",
    "\n",
    "index = pd.date_range(\"1/1/2000\", periods=8)\n",
    "\n",
    "df = pd.DataFrame(np.random.randn(8, 3), index=index, columns=[\"A\", \"B\", \"C\"])\n",
    "print(np.random.randn(8, 3) )\n",
    "print(df)"
   ]
  },
  {
   "cell_type": "code",
   "execution_count": 66,
   "metadata": {
    "executionInfo": {
     "elapsed": 408,
     "status": "ok",
     "timestamp": 1726936961863,
     "user": {
      "displayName": "Losataschu",
      "userId": "05286303956796621712"
     },
     "user_tz": -120
    },
    "id": "FDmRY14BOpJ2"
   },
   "outputs": [],
   "source": [
    "def reordenar(lista):\n",
    "  lista[-1] = -5\n",
    "  return lista"
   ]
  },
  {
   "cell_type": "code",
   "execution_count": 68,
   "metadata": {
    "colab": {
     "base_uri": "https://localhost:8080/"
    },
    "executionInfo": {
     "elapsed": 416,
     "status": "ok",
     "timestamp": 1726937006594,
     "user": {
      "displayName": "Losataschu",
      "userId": "05286303956796621712"
     },
     "user_tz": -120
    },
    "id": "msoIt4Iods_O",
    "outputId": "284ef2a6-0c21-4dd8-a0ac-77a1f00d49f8"
   },
   "outputs": [
    {
     "name": "stdout",
     "output_type": "stream",
     "text": [
      "[1, 2, 3, -5]\n"
     ]
    }
   ],
   "source": [
    "lista = [1,2,3,4]\n",
    "reordenar(lista)\n",
    "print(lista)"
   ]
  },
  {
   "cell_type": "code",
   "execution_count": 181,
   "metadata": {
    "id": "q7iPQm0Ud0BV"
   },
   "outputs": [
    {
     "data": {
      "text/plain": [
       "2"
      ]
     },
     "execution_count": 181,
     "metadata": {},
     "output_type": "execute_result"
    }
   ],
   "source": [
    "p = \"ab\"\n",
    "len(p)"
   ]
  },
  {
   "cell_type": "code",
   "execution_count": null,
   "metadata": {},
   "outputs": [],
   "source": []
  }
 ],
 "metadata": {
  "colab": {
   "provenance": []
  },
  "kernelspec": {
   "display_name": "Python 3 (ipykernel)",
   "language": "python",
   "name": "python3"
  },
  "language_info": {
   "codemirror_mode": {
    "name": "ipython",
    "version": 3
   },
   "file_extension": ".py",
   "mimetype": "text/x-python",
   "name": "python",
   "nbconvert_exporter": "python",
   "pygments_lexer": "ipython3",
   "version": "3.12.4"
  }
 },
 "nbformat": 4,
 "nbformat_minor": 4
}
