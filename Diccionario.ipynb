{
 "cells": [
  {
   "cell_type": "markdown",
   "metadata": {
    "id": "kZqRe3CRQ5Ds"
   },
   "source": [
    "# Mi proyecto en Python\n",
    "\n",
    "Es un diccionario personalizado. Quiero subirlo a [mi portafolio en github](https://github.com/losataschu)."
   ]
  },
  {
   "cell_type": "markdown",
   "metadata": {
    "id": "ozGV5emSKd3i"
   },
   "source": [
    "Primero defino la función que me ayuadará a determinar si acaso una entrada tiene una, dos o más palabras.\n",
    "Testeé esa función con la lista `mis palabras`:"
   ]
  },
  {
   "cell_type": "code",
   "execution_count": 3,
   "metadata": {
    "executionInfo": {
     "elapsed": 991,
     "status": "ok",
     "timestamp": 1726930454788,
     "user": {
      "displayName": "Losataschu",
      "userId": "05286303956796621712"
     },
     "user_tz": -120
    },
    "id": "ZG8D0r9ulDTG"
   },
   "outputs": [],
   "source": [
    "mis_palabras = ['abarbeiten', 'die Wertschöpfung', 'etwas in Worte fassen']\n",
    "\n",
    "def contarPalabras(texto):\n",
    "  if len(texto) == 0:\n",
    "    return 0\n",
    "  palabras = 1\n",
    "  for caracter in texto:\n",
    "    if caracter == ' ' and texto[0] != caracter and texto[-1] != caracter:\n",
    "      palabras += 1\n",
    "  return palabras\n"
   ]
  },
  {
   "cell_type": "markdown",
   "metadata": {
    "id": "BHxTYVXCKx6x"
   },
   "source": [
    "Luego voy a adjuntar los archivos que tengo el drive:"
   ]
  },
  {
   "cell_type": "code",
   "execution_count": 5,
   "metadata": {
    "colab": {
     "base_uri": "https://localhost:8080/"
    },
    "executionInfo": {
     "elapsed": 23172,
     "status": "ok",
     "timestamp": 1726930478847,
     "user": {
      "displayName": "Losataschu",
      "userId": "05286303956796621712"
     },
     "user_tz": -120
    },
    "id": "t2Td13V5P-VA",
    "outputId": "3fa5f0aa-e418-42d0-acf2-3b437e7aead1"
   },
   "outputs": [],
   "source": [
    "# solo para drive\n",
    "# from google.colab import drive\n",
    "# drive.mount('/content/drive')"
   ]
  },
  {
   "cell_type": "markdown",
   "metadata": {
    "id": "d8LkG-UF9EH_"
   },
   "source": [
    "Las librerías que uso para crear mi diccionario: `json` y `pandas`."
   ]
  },
  {
   "cell_type": "code",
   "execution_count": 5,
   "metadata": {
    "executionInfo": {
     "elapsed": 1158,
     "status": "ok",
     "timestamp": 1726930485842,
     "user": {
      "displayName": "Losataschu",
      "userId": "05286303956796621712"
     },
     "user_tz": -120
    },
    "id": "SObCySyCRHqJ"
   },
   "outputs": [],
   "source": [
    "import json\n",
    "import pandas as pd"
   ]
  },
  {
   "cell_type": "markdown",
   "metadata": {
    "id": "6jzckmvQQAJF"
   },
   "source": [
    "## Resumen de mis clases\n",
    "\n",
    "1. Entrada\n",
    "    1. Texto\n",
    "    5. Fecha\n",
    "    4. Categoría\n",
    "3. Sustantivo\n",
    "    * Artículo\n",
    "50. Diccionario\n",
    "    + Se crea a partir de las entradas\n",
    "    + Puede agregar entradas\n",
    "    + Debe permitir mostrar sublistas filtrando por diferentes criterios"
   ]
  },
  {
   "cell_type": "markdown",
   "metadata": {
    "id": "ez1IZzMRPLcg"
   },
   "source": [
    "Tengo una clase global para una entrada en mi diccionario, `Entrada`, que consiste de un texto, una fecha y una categoría.\n",
    "La subclase `Sustantivo` además tiene el artículo que lo diferencia del resto de las entradas, que van a ser palabras solas o frases compuestas:"
   ]
  },
  {
   "cell_type": "code",
   "execution_count": 7,
   "metadata": {
    "executionInfo": {
     "elapsed": 418,
     "status": "ok",
     "timestamp": 1726930492492,
     "user": {
      "displayName": "Losataschu",
      "userId": "05286303956796621712"
     },
     "user_tz": -120
    },
    "id": "DC95UMie9xnD"
   },
   "outputs": [],
   "source": [
    "#Codigo Entrada\n",
    "class Entrada:\n",
    "  def __init__(self, texto, fecha, categoria):\n",
    "    self.texto = texto\n",
    "    self.fecha = fecha\n",
    "    self.categoria = categoria\n",
    "  def __str__(self):\n",
    "    return self.texto\n",
    "  def __repr__(self):\n",
    "    return f\"{self.texto}\"\n",
    "\n",
    "#Codigo Sustantivo\n",
    "class Sustantivo(Entrada):\n",
    "  def __init__(self, articulo, texto, fecha, categoria):\n",
    "    super().__init__(texto, fecha, categoria)\n",
    "    self.articulo = articulo\n",
    "  def __repr__(self):\n",
    "    return f\"{self.articulo} {self.texto}\"\n",
    "\n"
   ]
  },
  {
   "cell_type": "code",
   "execution_count": 192,
   "metadata": {},
   "outputs": [],
   "source": [
    "# Codigo Clase Diccionario\n",
    "class Diccionario:\n",
    "  def __init__(self, direccion):\n",
    "    self.direccion = direccion\n",
    "    self.listado = self.crear_listado()\n",
    "\n",
    "  def crear_listado(self):\n",
    "    with open(self.direccion, 'r') as file:\n",
    "      mis_entradas = json.load(file)\n",
    "      #print(mis_entradas)\n",
    "      entradas_con_categoria = []\n",
    "      for entrada in mis_entradas[\"Entradas\"]:\n",
    "        #print(entrada[\"palabra\"])\n",
    "        if contarPalabras(entrada[\"palabra\"]) == 2:\n",
    "          entradas_con_categoria.append(Sustantivo(articulo=entrada[\"palabra\"][0:3], texto=entrada[\"palabra\"][4:], fecha=entrada[\"fecha\"], categoria=\"Sustantivo\"))\n",
    "        else:\n",
    "          entradas_con_categoria.append(Entrada(texto=entrada[\"palabra\"], fecha=entrada[\"fecha\"], categoria=\"Otra\"))\n",
    "      return entradas_con_categoria\n"
   ]
  },
  {
   "cell_type": "code",
   "execution_count": 194,
   "metadata": {},
   "outputs": [],
   "source": [
    "class Tabla:\n",
    "  def __init__(self, listado):\n",
    "    self.listado = listado\n",
    "    self.tabla = self.crear_tabla()\n",
    "    \n",
    "# Crear una tabla ocupando las entradas del diccionario\n",
    "  def crear_tabla(self):\n",
    "    enumeracion = []\n",
    "    coleccion = []\n",
    "    i = 1\n",
    "    entrada_i = \"Entrada \"\n",
    "    for entrada in self.listado:\n",
    "      enumeracion.append(entrada_i + str(i))\n",
    "      # TODO: agregar una excepcion para regular errores\n",
    "      fecha_legible = f'{entrada.fecha[0]}-{entrada.fecha[1]}-{entrada.fecha[2]}'\n",
    "      linea = [entrada.__repr__(), fecha_legible, entrada.categoria]\n",
    "      coleccion.append(linea)\n",
    "      i += 1\n",
    "    return pd.DataFrame(coleccion, index=enumeracion, columns=[\"Palabra\", \"Fecha\", \"Categoria\"])\n"
   ]
  },
  {
   "cell_type": "code",
   "execution_count": 221,
   "metadata": {
    "executionInfo": {
     "elapsed": 376,
     "status": "ok",
     "timestamp": 1726937044598,
     "user": {
      "displayName": "Losataschu",
      "userId": "05286303956796621712"
     },
     "user_tz": -120
    },
    "id": "8ehFkdfl9z2v"
   },
   "outputs": [],
   "source": [
    "def isSustantivo(entrada):\n",
    "    if contarPalabras(entrada.texto) == 2:\n",
    "      Sustantivo(entrada.texto[0], entrada.texto[1], entrada.fecha)\n",
    "\n",
    "# esta es la función que filtrará las tablas y entrega los resultados\n",
    "def filtrarTabla(tabla, criterio, valor):\n",
    "    tabla_filtrada = tabla.copy()\n",
    "    if criterio == \"categoria\":\n",
    "      return tabla.loc[lambda df: df[\"Categoria\"] == valor, :]\n",
    "    elif criterio == \"letra_inicial\":\n",
    "      for i in tabla.loc[:,\"Palabra\"]:\n",
    "        if contarPalabras(i) == 2 and i[4] != valor.capitalize():\n",
    "          idx = tabla.index[tabla[\"Palabra\"]==i].tolist()\n",
    "          tabla_filtrada = tabla_filtrada.drop(idx)\n",
    "        elif contarPalabras(i) == 1 and i[0] != valor:\n",
    "          idx = tabla.index[tabla[\"Palabra\"]==i].tolist()\n",
    "          tabla_filtrada = tabla_filtrada.drop(idx)\n",
    "      return tabla_filtrada\n",
    "    else:\n",
    "      return \"Para tal criterio no hay nada aun\"\n"
   ]
  },
  {
   "cell_type": "code",
   "execution_count": 223,
   "metadata": {},
   "outputs": [],
   "source": [
    "nuevo_diccionario = Diccionario('entradas_reducidas.json')\n",
    "mis_entradas = nuevo_diccionario.listado\n",
    "#print(mis_entradas)\n",
    "#print(nuevo_diccionario.listado[0].fecha)\n",
    "#print(nuevo_diccionario.listado[0].__str__())\n",
    "#print(nuevo_diccionario.listado[1].__repr__())\n",
    "#print(nuevo_diccionario.listado[1].articulo)"
   ]
  },
  {
   "cell_type": "code",
   "execution_count": 225,
   "metadata": {},
   "outputs": [
    {
     "name": "stdout",
     "output_type": "stream",
     "text": [
      "                    Palabra       Fecha   Categoria\n",
      "Entrada 1        abarbeiten  29-11-2022        Otra\n",
      "Entrada 2          abfangen   24-5-2023        Otra\n",
      "Entrada 3       die Abfolge  12-12-2022  Sustantivo\n",
      "Entrada 4          abgelten  28-12-2022        Otra\n",
      "Entrada 5         abgrenzen   24-5-2023        Otra\n",
      "Entrada 6   die Besteuerung   7-12-2022  Sustantivo\n",
      "Entrada 7      bestmoeglich  13-12-2022        Otra\n",
      "Entrada 8          bewirten  29-12-2022        Otra\n",
      "Entrada 9      durchreichen  13-12-2022        Otra\n",
      "Entrada 10      einheitlich  21-12-2022        Otra\n"
     ]
    }
   ],
   "source": [
    "nueva_tabla = Tabla(mis_entradas)\n",
    "#print(nueva_tabla.tabla)\n",
    "tabla_entradas = nueva_tabla.tabla\n",
    "encabezado = tabla_entradas.head(10)\n",
    "print(encabezado)"
   ]
  },
  {
   "cell_type": "code",
   "execution_count": 227,
   "metadata": {
    "colab": {
     "base_uri": "https://localhost:8080/",
     "height": 1000
    },
    "executionInfo": {
     "elapsed": 400,
     "status": "ok",
     "timestamp": 1726937401505,
     "user": {
      "displayName": "Losataschu",
      "userId": "05286303956796621712"
     },
     "user_tz": -120
    },
    "id": "WA1yRvxyS7gt",
    "outputId": "840cf2a2-8489-4341-b87e-81ac03a7b58f"
   },
   "outputs": [
    {
     "data": {
      "text/html": [
       "<div>\n",
       "<style scoped>\n",
       "    .dataframe tbody tr th:only-of-type {\n",
       "        vertical-align: middle;\n",
       "    }\n",
       "\n",
       "    .dataframe tbody tr th {\n",
       "        vertical-align: top;\n",
       "    }\n",
       "\n",
       "    .dataframe thead th {\n",
       "        text-align: right;\n",
       "    }\n",
       "</style>\n",
       "<table border=\"1\" class=\"dataframe\">\n",
       "  <thead>\n",
       "    <tr style=\"text-align: right;\">\n",
       "      <th></th>\n",
       "      <th>Palabra</th>\n",
       "      <th>Fecha</th>\n",
       "      <th>Categoria</th>\n",
       "    </tr>\n",
       "  </thead>\n",
       "  <tbody>\n",
       "    <tr>\n",
       "      <th>Entrada 1</th>\n",
       "      <td>abarbeiten</td>\n",
       "      <td>29-11-2022</td>\n",
       "      <td>Otra</td>\n",
       "    </tr>\n",
       "    <tr>\n",
       "      <th>Entrada 2</th>\n",
       "      <td>abfangen</td>\n",
       "      <td>24-5-2023</td>\n",
       "      <td>Otra</td>\n",
       "    </tr>\n",
       "    <tr>\n",
       "      <th>Entrada 3</th>\n",
       "      <td>die Abfolge</td>\n",
       "      <td>12-12-2022</td>\n",
       "      <td>Sustantivo</td>\n",
       "    </tr>\n",
       "    <tr>\n",
       "      <th>Entrada 4</th>\n",
       "      <td>abgelten</td>\n",
       "      <td>28-12-2022</td>\n",
       "      <td>Otra</td>\n",
       "    </tr>\n",
       "    <tr>\n",
       "      <th>Entrada 5</th>\n",
       "      <td>abgrenzen</td>\n",
       "      <td>24-5-2023</td>\n",
       "      <td>Otra</td>\n",
       "    </tr>\n",
       "  </tbody>\n",
       "</table>\n",
       "</div>"
      ],
      "text/plain": [
       "               Palabra       Fecha   Categoria\n",
       "Entrada 1   abarbeiten  29-11-2022        Otra\n",
       "Entrada 2     abfangen   24-5-2023        Otra\n",
       "Entrada 3  die Abfolge  12-12-2022  Sustantivo\n",
       "Entrada 4     abgelten  28-12-2022        Otra\n",
       "Entrada 5    abgrenzen   24-5-2023        Otra"
      ]
     },
     "execution_count": 227,
     "metadata": {},
     "output_type": "execute_result"
    }
   ],
   "source": [
    "filtrarTabla(encabezado, \"letra_inicial\", \"a\")"
   ]
  },
  {
   "cell_type": "markdown",
   "metadata": {
    "id": "f7IP2b3sRUlV"
   },
   "source": [
    "## Próximos pasos:\n",
    "\n",
    "- Filtrar según criterios:\n",
    "  1. Alfabético\n",
    "  2. Por fecha\n",
    "  3. ~~Por categoría~~\n",
    "- A~nadir palabras al archivo JSON.\n",
    "- ~~¿Crear una nueva clase *Tabla*?~~"
   ]
  },
  {
   "cell_type": "markdown",
   "metadata": {
    "id": "XkUG1lHJCPmz"
   },
   "source": [
    "## Ideas adicionales:\n",
    "+ Crear el archivo JSON con pandas en mi clase `Diccionario` y crear una tabla que se pueda visualizar mejor."
   ]
  }
 ],
 "metadata": {
  "colab": {
   "provenance": []
  },
  "kernelspec": {
   "display_name": "Python 3 (ipykernel)",
   "language": "python",
   "name": "python3"
  },
  "language_info": {
   "codemirror_mode": {
    "name": "ipython",
    "version": 3
   },
   "file_extension": ".py",
   "mimetype": "text/x-python",
   "name": "python",
   "nbconvert_exporter": "python",
   "pygments_lexer": "ipython3",
   "version": "3.12.4"
  }
 },
 "nbformat": 4,
 "nbformat_minor": 4
}
