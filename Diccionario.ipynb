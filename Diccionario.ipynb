{
  "cells": [
    {
      "cell_type": "markdown",
      "metadata": {
        "id": "view-in-github",
        "colab_type": "text"
      },
      "source": [
        "<a href=\"https://colab.research.google.com/github/losataschu/miDiccionario/blob/main/Diccionario.ipynb\" target=\"_parent\"><img src=\"https://colab.research.google.com/assets/colab-badge.svg\" alt=\"Open In Colab\"/></a>"
      ]
    },
    {
      "cell_type": "markdown",
      "source": [
        "# Mi proyecto en Python\n",
        "\n",
        "Es un diccionario personalizado. Quiero subirlo a [mi portafolio en github](https://github.com/losataschu)."
      ],
      "metadata": {
        "id": "kZqRe3CRQ5Ds"
      }
    },
    {
      "cell_type": "markdown",
      "source": [
        "Primero defino la función que me ayuadará a determinar si acaso una entrada tiene una, dos o más palabras.\n",
        "Testeé esa función con la lista `mis palabras`:"
      ],
      "metadata": {
        "id": "ozGV5emSKd3i"
      }
    },
    {
      "cell_type": "code",
      "execution_count": 1,
      "metadata": {
        "id": "ZG8D0r9ulDTG"
      },
      "outputs": [],
      "source": [
        "mis_palabras = ['abarbeiten', 'die Wertschöpfung', 'etwas in Worte fassen']\n",
        "\n",
        "def contarPalabras(texto):\n",
        "  if len(texto) == 0:\n",
        "    return 0\n",
        "  palabras = 1\n",
        "  for caracter in texto:\n",
        "    if caracter == ' ' and texto[0] != caracter and texto[-1] != caracter:\n",
        "      palabras += 1\n",
        "  return palabras\n"
      ]
    },
    {
      "cell_type": "markdown",
      "source": [
        "Luego voy a adjuntar los archivos que tengo el drive, pues ahí están mis entradas del diccionario. Asimismo importaré la librería `json` para leer el archivo que tiene mis entradas:"
      ],
      "metadata": {
        "id": "BHxTYVXCKx6x"
      }
    },
    {
      "cell_type": "code",
      "execution_count": 2,
      "metadata": {
        "colab": {
          "base_uri": "https://localhost:8080/"
        },
        "id": "t2Td13V5P-VA",
        "outputId": "ddd8401d-d549-4f69-b339-d93914a06b31"
      },
      "outputs": [
        {
          "output_type": "stream",
          "name": "stdout",
          "text": [
            "Mounted at /content/drive\n"
          ]
        }
      ],
      "source": [
        "from google.colab import drive\n",
        "drive.mount('/content/drive')"
      ]
    },
    {
      "cell_type": "code",
      "execution_count": 3,
      "metadata": {
        "id": "SObCySyCRHqJ"
      },
      "outputs": [],
      "source": [
        "import json"
      ]
    },
    {
      "cell_type": "markdown",
      "source": [
        "Tengo una clase global para una entrada en mi diccionario, `Entrada`, que consiste de un texto, una fecha y una categoría.\n",
        "La subclase `Sustantivo` además tiene el artículo que lo diferencia del resto de las entradas, que van a ser palabras solas o frases compuestas:"
      ],
      "metadata": {
        "id": "ez1IZzMRPLcg"
      }
    },
    {
      "cell_type": "code",
      "execution_count": 4,
      "metadata": {
        "id": "DC95UMie9xnD"
      },
      "outputs": [],
      "source": [
        "#Codigo Entrada\n",
        "class Entrada:\n",
        "  def __init__(self, texto, fecha, categoria):\n",
        "    self.texto = texto\n",
        "    self.fecha = fecha\n",
        "    self.categoria = categoria\n",
        "  def __str__(self):\n",
        "    return self.texto\n",
        "  def __repr__(self):\n",
        "    return f\"{self.texto}\"\n",
        "\n",
        "#Codigo Sustantivo\n",
        "class Sustantivo(Entrada):\n",
        "  def __init__(self, articulo, texto, fecha, categoria):\n",
        "    super().__init__(texto, fecha, categoria)\n",
        "    self.articulo = articulo\n",
        "  def __repr__(self):\n",
        "    return f\"{self.articulo} {self.texto}\"\n",
        "\n"
      ]
    },
    {
      "cell_type": "markdown",
      "source": [
        "## Resumen de mis clases\n",
        "\n",
        "1. Entrada\n",
        "  1. Texto\n",
        "  5. Fecha\n",
        "  4. Categoría\n",
        "3.Sustantivo\n",
        "  * Artículo\n",
        "50. Diccionario\n",
        "  + Se crea a partir de las entradas\n",
        "  + Puede agregar entradas\n",
        "  + Debe permitir mostrar sublistas filtrando por diferentes criterios"
      ],
      "metadata": {
        "id": "6jzckmvQQAJF"
      }
    },
    {
      "cell_type": "code",
      "execution_count": 5,
      "metadata": {
        "id": "8ehFkdfl9z2v"
      },
      "outputs": [],
      "source": [
        "#Codigo Diccionario\n",
        "class Diccionario:\n",
        "  def __init__(self, direccion):\n",
        "    self.direccion = direccion\n",
        "    self.entradas = self.leer_entradas()\n",
        "\n",
        "  def leer_entradas(self):\n",
        "    with open(self.direccion, 'r') as file:\n",
        "      listado_entradas = json.load(file)\n",
        "      #print(listado_entradas)\n",
        "      entradas_con_categoria = []\n",
        "      for entrada in listado_entradas[\"Entradas\"]:\n",
        "        #print(entrada[\"palabra\"])\n",
        "        if contarPalabras(entrada[\"palabra\"]) == 2:\n",
        "          entradas_con_categoria.append(Sustantivo(articulo=entrada[\"palabra\"][0:3], texto=entrada[\"palabra\"][4:], fecha=entrada[\"fecha\"], categoria=\"Sustantivo\"))\n",
        "        else:\n",
        "          entradas_con_categoria.append(Entrada(texto=entrada[\"palabra\"], fecha=entrada[\"fecha\"], categoria=\"Otra\"))\n",
        "      return entradas_con_categoria\n",
        "\n",
        "  def isSustantivo(entrada):\n",
        "    if contarPalabras(entrada.texto) == 2:\n",
        "      Sustantivo(entrada.texto[0], entrada.texto[1], entrada.fecha)\n"
      ]
    },
    {
      "cell_type": "code",
      "execution_count": 6,
      "metadata": {
        "colab": {
          "base_uri": "https://localhost:8080/"
        },
        "id": "WA1yRvxyS7gt",
        "outputId": "0afd7cfa-00e1-43fb-9f09-60b025732cad"
      },
      "outputs": [
        {
          "output_type": "stream",
          "name": "stdout",
          "text": [
            "[abarbeiten, abfangen, die Abfolge, abgelten, abgrenzen, die Besteuerung, bestmoeglich, bewirten, durchreichen, einheitlich, einordnen, der Einsatz, einsortieren, entbehrlich, das Entgelt, entkoppeln, das Fachkonzept, fachlich, die Fachlichkeit, die Festlegung, das Formelwerk, foermlich, gegenueberstellen, misslingen, nachgelagert, nahelegen, niederdruecken, notduerftig, die Plausibilisierung, raushauen, die Rechnungslegung, die Rentenperiode, das Tafelwerk, ungemein, unterlassen, unuebersichtlich, unzulaenglich, verbindlich, verkomplizieren, verschaffen, vervollstaendigen, die Verweildauer, der Vorgang, das Vorhaben, vorlaeufig, der Zeitwert, zusammensetzen, der Zusatz, die Zustaendigkeit, die Zusicherung, zuweisen, zwangslaeufig]\n",
            "[29, 11, 2022]\n",
            "abarbeiten\n",
            "abfangen\n"
          ]
        }
      ],
      "source": [
        "nuevo_diccionario = Diccionario('/content/drive/MyDrive/python/entradas_reducidas.json')\n",
        "print(nuevo_diccionario.entradas)\n",
        "print(nuevo_diccionario.entradas[0].fecha)\n",
        "print(nuevo_diccionario.entradas[0].__str__())\n",
        "print(nuevo_diccionario.entradas[1].__repr__())\n",
        "#print(nuevo_diccionario.entradas[1].articulo)\n"
      ]
    },
    {
      "cell_type": "markdown",
      "source": [
        "## Próximos pasos:\n",
        "\n",
        "- Filtrar según criterios:\n",
        "  1. Alfabético\n",
        "  2. Por fecha\n",
        "  3. Por categoría\n",
        "- A~nadir palabras al archivo JSON."
      ],
      "metadata": {
        "id": "f7IP2b3sRUlV"
      }
    },
    {
      "cell_type": "code",
      "source": [],
      "metadata": {
        "id": "2hvNYf2yRrn3"
      },
      "execution_count": null,
      "outputs": []
    }
  ],
  "metadata": {
    "colab": {
      "provenance": [],
      "include_colab_link": true
    },
    "kernelspec": {
      "display_name": "Python 3",
      "name": "python3"
    }
  },
  "nbformat": 4,
  "nbformat_minor": 0
}