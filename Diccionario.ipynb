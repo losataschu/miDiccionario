{
 "cells": [
  {
   "cell_type": "markdown",
   "metadata": {
    "id": "kZqRe3CRQ5Ds"
   },
   "source": [
    "# A program to store vocabulary while learning or practicing a new language."
   ]
  },
  {
   "cell_type": "markdown",
   "metadata": {
    "id": "ozGV5emSKd3i"
   },
   "source": [
    "First, I define a help function `countWords` to determine whether an entry has one, two, or more words.\n",
    "To test it, I use the array `my_words`."
   ]
  },
  {
   "cell_type": "code",
   "execution_count": 200,
   "metadata": {
    "executionInfo": {
     "elapsed": 991,
     "status": "ok",
     "timestamp": 1726930454788,
     "user": {
      "displayName": "Losataschu",
      "userId": "05286303956796621712"
     },
     "user_tz": -120
    },
    "id": "ZG8D0r9ulDTG"
   },
   "outputs": [
    {
     "name": "stdout",
     "output_type": "stream",
     "text": [
      "1\n",
      "2\n",
      "4\n"
     ]
    }
   ],
   "source": [
    "my_words = ['abarbeiten', 'die Wertschöpfung', 'etwas in Worte fassen']\n",
    "\n",
    "def count_words(text):\n",
    "    if len(text) == 0:\n",
    "        return 0\n",
    "    words = 1\n",
    "    for letter in text:\n",
    "        if letter == ' ' and text[0] != letter and text[-1] != letter:\n",
    "            words += 1\n",
    "    return words\n",
    "\n",
    "for i in my_words:\n",
    "    print(count_words(i))\n",
    "\n",
    "# Function to show double-digits for days and months\n",
    "def adjust_digits(date):\n",
    "    if len(f'{date}') == 1:\n",
    "        return f'0{date}'\n",
    "    else:\n",
    "        return f'{date}'\n",
    "\n",
    "def print_abort(message):\n",
    "    print(message)\n",
    "    return None"
   ]
  },
  {
   "cell_type": "markdown",
   "metadata": {
    "id": "d8LkG-UF9EH_"
   },
   "source": [
    "I use the `json` library to create my vocabulary list."
   ]
  },
  {
   "cell_type": "code",
   "execution_count": 202,
   "metadata": {
    "executionInfo": {
     "elapsed": 1158,
     "status": "ok",
     "timestamp": 1726930485842,
     "user": {
      "displayName": "Losataschu",
      "userId": "05286303956796621712"
     },
     "user_tz": -120
    },
    "id": "SObCySyCRHqJ"
   },
   "outputs": [],
   "source": [
    "import json"
   ]
  },
  {
   "cell_type": "markdown",
   "metadata": {
    "id": "6jzckmvQQAJF"
   },
   "source": [
    "## Description of my classes\n",
    "\n",
    "1. `Entry`. It has three attributes:\n",
    "    1. `Text`.\n",
    "    5. `Date`.\n",
    "    4. `Category`.\n",
    "3. `Noun`. A subclass of `Entry`, it has one additional attribute:\n",
    "    * `Article`.\n",
    "50. `Dictionary`. It has the following properties:\n",
    "    + It consists of entries. Those are stored in a JSON file whose path is given to the constructor.\n",
    "    + Should be able to add entries.\n",
    "    + It should allow the filtering of the whole list and create sublists using different criteria."
   ]
  },
  {
   "cell_type": "markdown",
   "metadata": {
    "id": "ez1IZzMRPLcg"
   },
   "source": [
    "Remark: an `entry` might be a word or a sentence (e.g. a common idiom)."
   ]
  },
  {
   "cell_type": "code",
   "execution_count": 205,
   "metadata": {
    "executionInfo": {
     "elapsed": 418,
     "status": "ok",
     "timestamp": 1726930492492,
     "user": {
      "displayName": "Losataschu",
      "userId": "05286303956796621712"
     },
     "user_tz": -120
    },
    "id": "DC95UMie9xnD"
   },
   "outputs": [],
   "source": [
    "class Entry:\n",
    "    def __init__(self, text, date, category):\n",
    "        self.text = text\n",
    "        self.date = date\n",
    "        self.category = category\n",
    "    def __str__(self):\n",
    "        return self.text\n",
    "    def __repr__(self):\n",
    "        return f\"{self.text}\"\n",
    "\n",
    "class Noun(Entry):\n",
    "    def __init__(self, article, text, date, category):\n",
    "        super().__init__(text, date, category)\n",
    "        self.article = article\n",
    "    def __repr__(self):\n",
    "        return f\"{self.article} {self.text}\"\n",
    "\n"
   ]
  },
  {
   "cell_type": "code",
   "execution_count": 206,
   "metadata": {},
   "outputs": [],
   "source": [
    "# Codigo Clase Diccionario\n",
    "class Dictionary:\n",
    "    def __init__(self, file_path):\n",
    "        self.file_path = file_path\n",
    "        self.list = self.create_list()\n",
    "\n",
    "    def create_list(self):\n",
    "        with open(self.file_path, 'r') as file:\n",
    "            my_entries = json.loads(file.read())\n",
    "            #print(mis_entradas)\n",
    "            entries_categorized = []\n",
    "            for entry in my_entries[\"Entradas\"]:\n",
    "                #print(entrada[\"palabra\"])\n",
    "                if count_words(entry[\"palabra\"]) == 2:\n",
    "                    entries_categorized.append(Noun(article=entry[\"palabra\"][0:3],\n",
    "                    text=entry[\"palabra\"][4:], date=entry[\"fecha\"], category=\"Noun\"))\n",
    "                else:\n",
    "                    entries_categorized.append(Entry(text=entry[\"palabra\"],\n",
    "                    date=entry[\"fecha\"], category=\"Other\"))\n",
    "            return entries_categorized\n"
   ]
  },
  {
   "cell_type": "code",
   "execution_count": 207,
   "metadata": {},
   "outputs": [],
   "source": [
    "class VocabularyList:\n",
    "    def __init__(self, vocab_list):\n",
    "        self.vocab_list = vocab_list\n",
    "        self.table = self.create_table()\n",
    "    \n",
    "# Create the tabla using the entries in the the dictionary\n",
    "    def create_table(self):\n",
    "        numbering = []\n",
    "        vocabulary = []\n",
    "        i = 1\n",
    "        entry_i = \"Entry \"\n",
    "        for entry in self.vocab_list:\n",
    "            numbering.append(entry_i + str(i))\n",
    "            # TODO: add something to deal with wrong entries\n",
    "            day = adjust_digits(entry.date[0])\n",
    "            month = adjust_digits(entry.date[1])\n",
    "            show_date = day+'-'+month+f'-{entry.date[2]}'\n",
    "            list_row = [entry.__repr__(), show_date, entry.category]\n",
    "            vocabulary.append(list_row)\n",
    "            i += 1\n",
    "        return vocabulary, numbering, [\"\", \"Text\", \"Date\", \"Category\"]\n",
    "\n",
    "# Function to show a well-ordered table with my vocabulary   \n",
    "    def show_table(self, vocabulary, enumeration, columns):\n",
    "        # TODO: here, I have to complete the function specifying the desired format\n",
    "        print(\"{:<10} {:<40} {:<12} {:<12}\".format(*columns))\n",
    "        # TODO: here handle with the case that enumeration and vocabulary have different lengths\n",
    "        for i in range(len(vocabulary)):\n",
    "            print(\"{:<10} {:<40} {:<12} {:<12}\".format(enumeration[i], *vocabulary[i]))"
   ]
  },
  {
   "cell_type": "code",
   "execution_count": 231,
   "metadata": {
    "executionInfo": {
     "elapsed": 376,
     "status": "ok",
     "timestamp": 1726937044598,
     "user": {
      "displayName": "Losataschu",
      "userId": "05286303956796621712"
     },
     "user_tz": -120
    },
    "id": "8ehFkdfl9z2v"
   },
   "outputs": [],
   "source": [
    "#def isSustantivo(entrada):\n",
    " #  if contarPalabras(entrada.texto) == 2:\n",
    "  #    return true\n",
    "\n",
    "# function that creates and prints the resulting table\n",
    "def list_entries(vocab_list):\n",
    "    vocab_table = VocabularyList(vocab_list)\n",
    "    table_elements = vocab_table.create_table()\n",
    "    vocab_table.show_table(table_elements[0], table_elements[1], table_elements[2])\n",
    "\n",
    "# this function redirects the filtering to the respective method\n",
    "def filter_entries(vocab_list, attribute, value):\n",
    "    match attribute:\n",
    "        case \"category\": return category_filter(vocab_list, value)\n",
    "        case \"initial_letter\": return letter_filter(vocab_list, value)\n",
    "        case \"year\" | \"month\" | \"day\":\n",
    "            if value < 0:\n",
    "                return print_abort(\"Please enter a positive number!\")\n",
    "            return date_filter(vocab_list, attribute, value)\n",
    "        case \"monthly\" | \"date\":\n",
    "            try:\n",
    "                for i in value:\n",
    "                    if i < 0:\n",
    "                        print(\"Please enter positive numbers!\")\n",
    "                        return None\n",
    "                return date_filter(vocab_list, attribute, value)\n",
    "            except TypeError as e:\n",
    "                print(e)\n",
    "        case _:\n",
    "            return print_abort(\"No method for that attribute\")\n",
    "\n",
    "def category_filter(vocab_list, value):\n",
    "    value = value.lower()\n",
    "    match value:\n",
    "        case \"noun\" | \"other\": \n",
    "            filtered_vocabulary = []\n",
    "            for i in vocab_list:\n",
    "                if i.category.lower() == value:\n",
    "                    filtered_vocabulary.append(i)\n",
    "            list_entries(filtered_vocabulary)\n",
    "        case _:\n",
    "            return print_abort(\"Invalid category!\")\n",
    "\n",
    "def letter_filter(vocab_list, value):\n",
    "    filtered_vocabulary = []\n",
    "    if len(value) != 1:\n",
    "        return print_abort(\"Please type only one letter!\")\n",
    "    value = value.lower()\n",
    "    for i in vocab_list:\n",
    "        if i.category == \"Noun\" and i.text[0].lower() == value:\n",
    "            filtered_vocabulary.append(i)\n",
    "        elif i.text[0] == value:\n",
    "            filtered_vocabulary.append(i)\n",
    "    list_entries(filtered_vocabulary)\n",
    "\n",
    "def date_filter(vocab_list, attribute, value):\n",
    "    filtered_vocabulary = []\n",
    "    #print(value)\n",
    "    match attribute:\n",
    "        case \"year\":\n",
    "            for i in vocab_list:\n",
    "                if i.date[2] == value:\n",
    "                    filtered_vocabulary.append(i)\n",
    "        case \"month\":\n",
    "            for i in vocab_list:\n",
    "                if value == 0 or value > 12:\n",
    "                    return print_abort(\"Invalid month number!\")\n",
    "                elif i.date[1] == value:\n",
    "                    filtered_vocabulary.append(i)\n",
    "        case \"day\":\n",
    "            for i in vocab_list:\n",
    "                if value == 0 or value > 31:\n",
    "                    return print_abort(\"Invalid day number!\")\n",
    "                if i.date[0] == value:\n",
    "                    filtered_vocabulary.append(i)\n",
    "        case \"monthly\":\n",
    "            if len(value) != 2:\n",
    "                return print_abort(\"Please enter a day number followed by a month number\")\n",
    "            elif value[1] == 0 or value[1] > 12 or value[0] == 0 or value[0] > 31:\n",
    "                return print_abort(\"Invalid numbers!\")\n",
    "            else:\n",
    "                for i in vocab_list:\n",
    "                    if i.date[0] == value[0] and i.date[1] == value[1]:\n",
    "                        filtered_vocabulary.append(i)\n",
    "        case \"date\":\n",
    "            if len(value) != 3:\n",
    "                return print_abort(\"Please enter a day number followed by a month number and a year\")\n",
    "            elif value[1] == 0 or value[1] > 12 or value[0] == 0 or value[0] > 31:\n",
    "                return print_abort(\"Invalid numbers!\")\n",
    "            else:\n",
    "                for i in vocab_list:\n",
    "                    if i.date == value:\n",
    "                        filtered_vocabulary.append(i)\n",
    "        case _:\n",
    "            return print_abort(\"Invalid category!\")\n",
    "    list_entries(filtered_vocabulary)\n"
   ]
  },
  {
   "cell_type": "code",
   "execution_count": 233,
   "metadata": {},
   "outputs": [
    {
     "data": {
      "text/plain": [
       "list"
      ]
     },
     "execution_count": 233,
     "metadata": {},
     "output_type": "execute_result"
    }
   ],
   "source": [
    "a = [3,4,5]\n",
    "type(a)"
   ]
  },
  {
   "cell_type": "code",
   "execution_count": 235,
   "metadata": {},
   "outputs": [
    {
     "name": "stdout",
     "output_type": "stream",
     "text": [
      "[abarbeiten, abfangen, die Abfolge, abgelten, abgrenzen, die Besteuerung, bestmoeglich, bewirten, durchreichen, einheitlich, einordnen, der Einsatz, einsortieren, entbehrlich, das Entgelt, entkoppeln, das Fachkonzept, fachlich, die Fachlichkeit, die Festlegung, das Formelwerk, foermlich, gegenueberstellen, misslingen, nachgelagert, nahelegen, niederdruecken, notduerftig, die Plausibilisierung, raushauen, die Rechnungslegung, die Rentenperiode, das Tafelwerk, ungemein, unterlassen, unuebersichtlich, unzulaenglich, verbindlich, verkomplizieren, verschaffen, vervollstaendigen, die Verweildauer, der Vorgang, das Vorhaben, vorlaeufig, der Zeitwert, zusammensetzen, der Zusatz, die Zustaendigkeit, die Zusicherung, zuweisen, zwangslaeufig]\n"
     ]
    }
   ],
   "source": [
    "new_dict = Dictionary(\"entradas_reducidas.json\")\n",
    "my_entries = new_dict.list\n",
    "print(my_entries)"
   ]
  },
  {
   "cell_type": "code",
   "execution_count": 237,
   "metadata": {},
   "outputs": [
    {
     "name": "stdout",
     "output_type": "stream",
     "text": [
      "           Text                                     Date         Category    \n",
      "Entry 1    abarbeiten                               29-11-2022   Other       \n",
      "Entry 2    abfangen                                 24-05-2023   Other       \n",
      "Entry 3    die Abfolge                              12-12-2022   Noun        \n",
      "Entry 4    abgelten                                 28-12-2022   Other       \n",
      "Entry 5    abgrenzen                                24-05-2023   Other       \n",
      "Entry 6    die Besteuerung                          07-12-2022   Noun        \n",
      "Entry 7    bestmoeglich                             13-12-2022   Other       \n",
      "Entry 8    bewirten                                 29-12-2022   Other       \n",
      "Entry 9    durchreichen                             13-12-2022   Other       \n",
      "Entry 10   einheitlich                              21-12-2022   Other       \n",
      "Entry 11   einordnen                                14-12-2022   Other       \n",
      "Entry 12   der Einsatz                              15-12-2022   Noun        \n",
      "Entry 13   einsortieren                             04-01-2023   Other       \n",
      "Entry 14   entbehrlich                              28-12-2022   Other       \n",
      "Entry 15   das Entgelt                              07-12-2022   Noun        \n",
      "Entry 16   entkoppeln                               28-12-2022   Other       \n",
      "Entry 17   das Fachkonzept                          12-12-2022   Noun        \n",
      "Entry 18   fachlich                                 12-12-2022   Other       \n",
      "Entry 19   die Fachlichkeit                         21-12-2022   Noun        \n",
      "Entry 20   die Festlegung                           12-12-2022   Noun        \n",
      "Entry 21   das Formelwerk                           13-12-2022   Noun        \n",
      "Entry 22   foermlich                                29-11-2022   Other       \n",
      "Entry 23   gegenueberstellen                        28-12-2022   Other       \n",
      "Entry 24   misslingen                               29-11-2022   Other       \n",
      "Entry 25   nachgelagert                             13-12-2022   Other       \n",
      "Entry 26   nahelegen                                28-12-2022   Other       \n",
      "Entry 27   niederdruecken                           29-11-2022   Other       \n",
      "Entry 28   notduerftig                              29-11-2022   Other       \n",
      "Entry 29   die Plausibilisierung                    13-12-2022   Noun        \n",
      "Entry 30   raushauen                                15-12-2022   Other       \n",
      "Entry 31   die Rechnungslegung                      12-12-2022   Noun        \n",
      "Entry 32   die Rentenperiode                        29-12-2022   Noun        \n",
      "Entry 33   das Tafelwerk                            13-12-2022   Noun        \n",
      "Entry 34   ungemein                                 29-11-2022   Other       \n",
      "Entry 35   unterlassen                              26-05-2023   Other       \n",
      "Entry 36   unuebersichtlich                         07-12-2022   Other       \n",
      "Entry 37   unzulaenglich                            14-12-2022   Other       \n",
      "Entry 38   verbindlich                              28-12-2022   Other       \n",
      "Entry 39   verkomplizieren                          04-01-2023   Other       \n",
      "Entry 40   verschaffen                              13-12-2022   Other       \n",
      "Entry 41   vervollstaendigen                        12-12-2022   Other       \n",
      "Entry 42   die Verweildauer                         28-12-2022   Noun        \n",
      "Entry 43   der Vorgang                              28-12-2022   Noun        \n",
      "Entry 44   das Vorhaben                             12-12-2022   Noun        \n",
      "Entry 45   vorlaeufig                               28-12-2022   Other       \n",
      "Entry 46   der Zeitwert                             28-12-2022   Noun        \n",
      "Entry 47   zusammensetzen                           14-12-2022   Other       \n",
      "Entry 48   der Zusatz                               13-12-2022   Noun        \n",
      "Entry 49   die Zustaendigkeit                       28-12-2022   Noun        \n",
      "Entry 50   die Zusicherung                          05-12-2022   Noun        \n",
      "Entry 51   zuweisen                                 12-12-2022   Other       \n",
      "Entry 52   zwangslaeufig                            28-12-2022   Other       \n"
     ]
    }
   ],
   "source": [
    "list_entries(my_entries)"
   ]
  },
  {
   "cell_type": "code",
   "execution_count": 239,
   "metadata": {
    "colab": {
     "base_uri": "https://localhost:8080/",
     "height": 1000
    },
    "executionInfo": {
     "elapsed": 400,
     "status": "ok",
     "timestamp": 1726937401505,
     "user": {
      "displayName": "Losataschu",
      "userId": "05286303956796621712"
     },
     "user_tz": -120
    },
    "id": "WA1yRvxyS7gt",
    "outputId": "840cf2a2-8489-4341-b87e-81ac03a7b58f"
   },
   "outputs": [
    {
     "name": "stdout",
     "output_type": "stream",
     "text": [
      "No method for that attribute\n",
      "Please enter a positive number!\n",
      "           Text                                     Date         Category    \n",
      "Entry 1    einsortieren                             04-01-2023   Other       \n",
      "Entry 2    verkomplizieren                          04-01-2023   Other       \n",
      "           Text                                     Date         Category    \n",
      "Entry 1    die Besteuerung                          07-12-2022   Noun        \n",
      "Entry 2    das Entgelt                              07-12-2022   Noun        \n",
      "Entry 3    unuebersichtlich                         07-12-2022   Other       \n"
     ]
    }
   ],
   "source": [
    "#filter_entries(my_entries, \"category\", \"Other\")\n",
    "#filter_entries(my_entries, \"initial_letter\", \"z\")\n",
    "#filter_entries(my_entries, \"year\", 2023)\n",
    "filter_entries(my_entries, \"corneta\", 20)\n",
    "filter_entries(my_entries, \"year\", -2023)\n",
    "filter_entries(my_entries, \"monthly\", [4,1])\n",
    "filter_entries(my_entries, \"date\", [7,12,2022])\n"
   ]
  },
  {
   "cell_type": "markdown",
   "metadata": {
    "id": "f7IP2b3sRUlV"
   },
   "source": [
    "## Next steps:\n",
    "\n",
    "- Filter using different criteria:\n",
    "  1. ~~Alphabetic~~\n",
    "  2. ~~Date~~\n",
    "  3. ~~Category~~\n",
    "- Add vocabulary into the JSON file."
   ]
  },
  {
   "cell_type": "code",
   "execution_count": 214,
   "metadata": {
    "executionInfo": {
     "elapsed": 408,
     "status": "ok",
     "timestamp": 1726936961863,
     "user": {
      "displayName": "Losataschu",
      "userId": "05286303956796621712"
     },
     "user_tz": -120
    },
    "id": "FDmRY14BOpJ2"
   },
   "outputs": [],
   "source": [
    "def reordenar(lista):\n",
    "  lista[-1] = -5\n",
    "  return lista"
   ]
  },
  {
   "cell_type": "code",
   "execution_count": 215,
   "metadata": {
    "colab": {
     "base_uri": "https://localhost:8080/"
    },
    "executionInfo": {
     "elapsed": 416,
     "status": "ok",
     "timestamp": 1726937006594,
     "user": {
      "displayName": "Losataschu",
      "userId": "05286303956796621712"
     },
     "user_tz": -120
    },
    "id": "msoIt4Iods_O",
    "outputId": "284ef2a6-0c21-4dd8-a0ac-77a1f00d49f8"
   },
   "outputs": [
    {
     "name": "stdout",
     "output_type": "stream",
     "text": [
      "[1, 2, 3, -5]\n"
     ]
    }
   ],
   "source": [
    "lista = [1,2,3,4]\n",
    "reordenar(lista)\n",
    "print(lista)"
   ]
  },
  {
   "cell_type": "code",
   "execution_count": 216,
   "metadata": {
    "id": "q7iPQm0Ud0BV"
   },
   "outputs": [
    {
     "data": {
      "text/plain": [
       "2"
      ]
     },
     "execution_count": 216,
     "metadata": {},
     "output_type": "execute_result"
    }
   ],
   "source": [
    "p = \"ab\"\n",
    "len(p)"
   ]
  },
  {
   "cell_type": "code",
   "execution_count": 1,
   "metadata": {},
   "outputs": [
    {
     "data": {
      "text/plain": [
       "False"
      ]
     },
     "execution_count": 1,
     "metadata": {},
     "output_type": "execute_result"
    }
   ],
   "source": [
    "lista1 = [\"perro\", \"gato\", \"raton\"]\n",
    "\"pollo\" in lista1"
   ]
  },
  {
   "cell_type": "code",
   "execution_count": null,
   "metadata": {},
   "outputs": [],
   "source": []
  }
 ],
 "metadata": {
  "colab": {
   "provenance": []
  },
  "kernelspec": {
   "display_name": "Python 3 (ipykernel)",
   "language": "python",
   "name": "python3"
  },
  "language_info": {
   "codemirror_mode": {
    "name": "ipython",
    "version": 3
   },
   "file_extension": ".py",
   "mimetype": "text/x-python",
   "name": "python",
   "nbconvert_exporter": "python",
   "pygments_lexer": "ipython3",
   "version": "3.12.4"
  }
 },
 "nbformat": 4,
 "nbformat_minor": 4
}
