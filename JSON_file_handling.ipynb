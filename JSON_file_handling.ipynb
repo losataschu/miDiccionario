{
 "cells": [
  {
   "cell_type": "code",
   "execution_count": 12,
   "id": "35457c70-8a80-43c5-89bc-7ffa9d8b848b",
   "metadata": {},
   "outputs": [],
   "source": [
    "import json"
   ]
  },
  {
   "cell_type": "code",
   "execution_count": 13,
   "id": "3b1a024b-9875-4ce7-af8d-d553db31090a",
   "metadata": {},
   "outputs": [],
   "source": [
    "numbers = [3, 5, 1, 72, 21, 90]"
   ]
  },
  {
   "cell_type": "code",
   "execution_count": 14,
   "id": "47fdd7a9-17f3-419a-9734-c8e7d8b2d77f",
   "metadata": {},
   "outputs": [],
   "source": [
    "filename = \"numbers.json\""
   ]
  },
  {
   "cell_type": "code",
   "execution_count": 15,
   "id": "6507dc67-59db-4e17-890a-af4553e120ba",
   "metadata": {},
   "outputs": [],
   "source": [
    "def write_file(filename, object):\n",
    "    with open(filename, \"w\") as f_obj:\n",
    "        json.dump(object, f_obj)"
   ]
  },
  {
   "cell_type": "code",
   "execution_count": 16,
   "id": "1788027c-efad-4aea-8a1d-4335a5418452",
   "metadata": {},
   "outputs": [],
   "source": [
    "write_file(filename, numbers)"
   ]
  },
  {
   "cell_type": "code",
   "execution_count": 17,
   "id": "e1be58f8-ebac-4b1f-9582-3903a36cb9ed",
   "metadata": {},
   "outputs": [],
   "source": [
    "ejemplo = {\"palabra\" : \"hola\", \"fecha\" : \"24-01-2024\"}"
   ]
  },
  {
   "cell_type": "code",
   "execution_count": 18,
   "id": "fcea126b-5e7a-4d27-a71c-88fd37839591",
   "metadata": {},
   "outputs": [],
   "source": [
    "#esto reescribe lo que ya estaba\n",
    "write_file(filename, ejemplo)"
   ]
  },
  {
   "cell_type": "code",
   "execution_count": 19,
   "id": "5653eb7a-5eeb-4f2d-8839-5d4f0c745c34",
   "metadata": {},
   "outputs": [
    {
     "name": "stdout",
     "output_type": "stream",
     "text": [
      "4\n"
     ]
    }
   ],
   "source": [
    "e = [4, 5, 2, 9, 0, 1]\n",
    "for i in e:\n",
    "    if i == 0:\n",
    "        k = e.pop(i)\n",
    "print(k)"
   ]
  },
  {
   "cell_type": "code",
   "execution_count": 41,
   "id": "03157bed-6e24-4f31-9611-ea1425a9f27b",
   "metadata": {},
   "outputs": [
    {
     "ename": "ValueError",
     "evalue": "El número no puede ser negativo.",
     "output_type": "error",
     "traceback": [
      "\u001b[1;31m---------------------------------------------------------------------------\u001b[0m",
      "\u001b[1;31mValueError\u001b[0m                                Traceback (most recent call last)",
      "Cell \u001b[1;32mIn[41], line 13\u001b[0m\n\u001b[0;32m      9\u001b[0m         \u001b[38;5;28mprint\u001b[39m(\u001b[38;5;124mf\u001b[39m\u001b[38;5;124m\"\u001b[39m\u001b[38;5;124mResultado: \u001b[39m\u001b[38;5;132;01m{\u001b[39;00mresultado\u001b[38;5;132;01m}\u001b[39;00m\u001b[38;5;124m\"\u001b[39m)\n\u001b[0;32m     10\u001b[0m     \u001b[38;5;66;03m#except ValueError as e:\u001b[39;00m\n\u001b[0;32m     11\u001b[0m      \u001b[38;5;66;03m#   print(f\"Validation error {e}\")\u001b[39;00m\n\u001b[0;32m     12\u001b[0m \u001b[38;5;66;03m# Llamamos a funcion_b con un valor negativo para forzar la excepción\u001b[39;00m\n\u001b[1;32m---> 13\u001b[0m funcion_b(\u001b[38;5;241m-\u001b[39m\u001b[38;5;241m5\u001b[39m)\n\u001b[0;32m     15\u001b[0m \u001b[38;5;28mprint\u001b[39m(\u001b[38;5;124m\"\u001b[39m\u001b[38;5;124mEste mensaje nunca se imprimirá porque el programa terminó con un error.\u001b[39m\u001b[38;5;124m\"\u001b[39m)\n",
      "Cell \u001b[1;32mIn[41], line 7\u001b[0m, in \u001b[0;36mfuncion_b\u001b[1;34m(y)\u001b[0m\n\u001b[0;32m      4\u001b[0m \u001b[38;5;28;01mdef\u001b[39;00m \u001b[38;5;21mfuncion_b\u001b[39m(y):\n\u001b[0;32m      5\u001b[0m     \u001b[38;5;66;03m#try:\u001b[39;00m\n\u001b[0;32m      6\u001b[0m         \u001b[38;5;28;01mif\u001b[39;00m y \u001b[38;5;241m<\u001b[39m \u001b[38;5;241m0\u001b[39m:\n\u001b[1;32m----> 7\u001b[0m             \u001b[38;5;28;01mraise\u001b[39;00m \u001b[38;5;167;01mValueError\u001b[39;00m(\u001b[38;5;124m\"\u001b[39m\u001b[38;5;124mEl número no puede ser negativo.\u001b[39m\u001b[38;5;124m\"\u001b[39m)\n\u001b[0;32m      8\u001b[0m         resultado \u001b[38;5;241m=\u001b[39m funcion_a(y)  \u001b[38;5;66;03m# Si funcion_a lanza una excepción, aquí se interrumpe\u001b[39;00m\n\u001b[0;32m      9\u001b[0m         \u001b[38;5;28mprint\u001b[39m(\u001b[38;5;124mf\u001b[39m\u001b[38;5;124m\"\u001b[39m\u001b[38;5;124mResultado: \u001b[39m\u001b[38;5;132;01m{\u001b[39;00mresultado\u001b[38;5;132;01m}\u001b[39;00m\u001b[38;5;124m\"\u001b[39m)\n",
      "\u001b[1;31mValueError\u001b[0m: El número no puede ser negativo."
     ]
    }
   ],
   "source": [
    "def funcion_a(x):\n",
    "    return x * 2\n",
    "\n",
    "def funcion_b(y):\n",
    "    #try:\n",
    "        if y < 0:\n",
    "            raise ValueError(\"El número no puede ser negativo.\")\n",
    "        resultado = funcion_a(y)  # Si funcion_a lanza una excepción, aquí se interrumpe\n",
    "        print(f\"Resultado: {resultado}\")\n",
    "    #except ValueError as e:\n",
    "     #   print(f\"Validation error {e}\")\n",
    "# Llamamos a funcion_b con un valor negativo para forzar la excepción\n",
    "funcion_b(-5)\n",
    "\n",
    "print(\"Este mensaje nunca se imprimirá porque el programa terminó con un error.\")"
   ]
  },
  {
   "cell_type": "code",
   "execution_count": 1,
   "id": "4fbf88fe-4daf-41a4-9cc9-b821a2d87669",
   "metadata": {},
   "outputs": [],
   "source": [
    "a = [i for i in range(50) if (i > 9 and i % 4 == 3)]"
   ]
  },
  {
   "cell_type": "code",
   "execution_count": 3,
   "id": "5ef8d03e-a6b9-424f-8701-5878864432fe",
   "metadata": {},
   "outputs": [
    {
     "name": "stdout",
     "output_type": "stream",
     "text": [
      "[11, 15, 19, 23, 27, 31, 35, 39, 43, 47]\n"
     ]
    }
   ],
   "source": [
    "print(a)"
   ]
  },
  {
   "cell_type": "code",
   "execution_count": 49,
   "id": "337349e6-0085-41cb-8928-73c8adb592e5",
   "metadata": {},
   "outputs": [
    {
     "data": {
      "text/plain": [
       "dict"
      ]
     },
     "execution_count": 49,
     "metadata": {},
     "output_type": "execute_result"
    }
   ],
   "source": [
    "type(a[3])"
   ]
  },
  {
   "cell_type": "code",
   "execution_count": null,
   "id": "08d6157b-0340-4808-9b61-f475d0d57c23",
   "metadata": {},
   "outputs": [],
   "source": []
  }
 ],
 "metadata": {
  "kernelspec": {
   "display_name": "Python 3 (ipykernel)",
   "language": "python",
   "name": "python3"
  },
  "language_info": {
   "codemirror_mode": {
    "name": "ipython",
    "version": 3
   },
   "file_extension": ".py",
   "mimetype": "text/x-python",
   "name": "python",
   "nbconvert_exporter": "python",
   "pygments_lexer": "ipython3",
   "version": "3.12.4"
  }
 },
 "nbformat": 4,
 "nbformat_minor": 5
}
